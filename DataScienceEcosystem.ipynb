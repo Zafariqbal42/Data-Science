{
 "cells": [
  {
   "cell_type": "markdown",
   "id": "c953153c",
   "metadata": {},
   "source": [
    "## Mohammad Zafar Iqbal Dávila\n",
    "Author"
   ]
  },
  {
   "cell_type": "markdown",
   "id": "cf6b1755",
   "metadata": {},
   "source": [
    "# Data Science Tools and Ecosystem"
   ]
  },
  {
   "cell_type": "markdown",
   "id": "920427d3",
   "metadata": {},
   "source": [
    "In this notebook, Data Science Tools and Ecosystem are summarized."
   ]
  },
  {
   "cell_type": "markdown",
   "id": "daec4b3f",
   "metadata": {},
   "source": [
    "**Objectives:**\n",
    "\n",
    "- List popular languages for Data Science.\n",
    "- Identify commonly used libraries in Data Science.\n",
    "- Explain key concepts in data analysis and machine learning.\n",
    "- Demonstrate basic data manipulation and visualization techniques.\n",
    "- Understand development environments and tools for Data Science.\n"
   ]
  },
  {
   "cell_type": "markdown",
   "id": "82c3b518",
   "metadata": {},
   "source": [
    "Some of the popular languages that Data Scientists use are:"
   ]
  },
  {
   "cell_type": "markdown",
   "id": "086df3d0",
   "metadata": {},
   "source": [
    "1. R\n",
    "2. Python\n",
    "3. JSON\n"
   ]
  },
  {
   "cell_type": "markdown",
   "id": "7b5cc677",
   "metadata": {},
   "source": [
    " Some of the commonly used libraries used by Data Scientists includ:"
   ]
  },
  {
   "cell_type": "markdown",
   "id": "9eec558d",
   "metadata": {},
   "source": [
    "1. pandas\n",
    "2. numpy\n",
    "3. caret\n"
   ]
  },
  {
   "cell_type": "markdown",
   "id": "1314bb8d",
   "metadata": {},
   "source": [
    "### Data Science Tools\n",
    "| Data Science Tools       |\n",
    "|---------------------------|\n",
    "| Jupyter Notebook          |\n",
    "| RStudio                   |\n",
    "| Apache Zeppelin           |\n"
   ]
  },
  {
   "cell_type": "markdown",
   "id": "ca1dfdef",
   "metadata": {},
   "source": [
    "### Below are a few examples of evaluating arithmetic expressions in Python"
   ]
  },
  {
   "cell_type": "code",
   "execution_count": 4,
   "id": "5e0bb275",
   "metadata": {},
   "outputs": [
    {
     "data": {
      "text/plain": [
       "17"
      ]
     },
     "execution_count": 4,
     "metadata": {},
     "output_type": "execute_result"
    }
   ],
   "source": [
    "# This is a simple arithmetic expression to multiply 3 by 4 and then add 5\n",
    "result = (3 * 4) + 5\n",
    "result\n"
   ]
  },
  {
   "cell_type": "code",
   "execution_count": 5,
   "id": "2bbe8868",
   "metadata": {},
   "outputs": [
    {
     "data": {
      "text/plain": [
       "3.3333333333333335"
      ]
     },
     "execution_count": 5,
     "metadata": {},
     "output_type": "execute_result"
    }
   ],
   "source": [
    "# This will convert 200 minutes to hours by dividing by 60\n",
    "hours = 200 / 60\n",
    "hours\n"
   ]
  },
  {
   "cell_type": "code",
   "execution_count": null,
   "id": "00b487cd",
   "metadata": {},
   "outputs": [],
   "source": []
  },
  {
   "cell_type": "code",
   "execution_count": null,
   "id": "cea69572",
   "metadata": {},
   "outputs": [],
   "source": []
  }
 ],
 "metadata": {
  "kernelspec": {
   "display_name": "Python 3 (ipykernel)",
   "language": "python",
   "name": "python3"
  },
  "language_info": {
   "codemirror_mode": {
    "name": "ipython",
    "version": 3
   },
   "file_extension": ".py",
   "mimetype": "text/x-python",
   "name": "python",
   "nbconvert_exporter": "python",
   "pygments_lexer": "ipython3",
   "version": "3.11.5"
  }
 },
 "nbformat": 4,
 "nbformat_minor": 5
}
